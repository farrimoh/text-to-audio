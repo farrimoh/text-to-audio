{
 "cells": [
  {
   "cell_type": "markdown",
   "id": "eff24626",
   "metadata": {},
   "source": [
    "# Azure Text-to-Speech Demo\n",
    "\n",
    "This notebook demonstrates how to use Azure Cognitive Services to synthesize speech from text.  \n",
    "Make sure your Azure Speech resource key and region are set in the `.env` file before running the code cells.  \n",
    "The output audio will be saved as `output.wav`."
   ]
  },
  {
   "cell_type": "code",
   "execution_count": null,
   "id": "0a56a140",
   "metadata": {},
   "outputs": [],
   "source": [
    "import os\n",
    "from dotenv import load_dotenv\n",
    "import azure.cognitiveservices.speech as speechsdk\n",
    "\n",
    "load_dotenv(\"../.env\")\n",
    "speech_config = speechsdk.SpeechConfig(subscription=os.getenv(\"AZURE_SPEECH_KEY\"), region=os.getenv(\"AZURE_SPEECH_REGION\"))\n",
    "speech_config.speech_synthesis_voice_name = \"en-US-JennyNeural\"\n",
    "synthesizer = speechsdk.SpeechSynthesizer(speech_config=speech_config, audio_config=speechsdk.audio.AudioOutputConfig(filename=\"output.wav\"))\n",
    "synthesizer.speak_text_async(\"This is a test of Azure TTS.\").get()\n"
   ]
  }
 ],
 "metadata": {
  "kernelspec": {
   "display_name": "venv",
   "language": "python",
   "name": "python3"
  },
  "language_info": {
   "codemirror_mode": {
    "name": "ipython",
    "version": 3
   },
   "file_extension": ".py",
   "mimetype": "text/x-python",
   "name": "python",
   "nbconvert_exporter": "python",
   "pygments_lexer": "ipython3",
   "version": "3.9.13"
  }
 },
 "nbformat": 4,
 "nbformat_minor": 5
}
