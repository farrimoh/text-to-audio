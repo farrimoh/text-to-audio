{
 "cells": [
  {
   "cell_type": "code",
   "execution_count": null,
   "id": "02284112",
   "metadata": {},
   "outputs": [
    {
     "name": "stderr",
     "output_type": "stream",
     "text": [
      "USER_AGENT environment variable not set, consider setting it to identify your requests.\n"
     ]
    },
    {
     "name": "stdout",
     "output_type": "stream",
     "text": [
      "✅ Text extraction successful!\n",
      "🔹 Preview:\n",
      "Introduction - Training | Microsoft Learn\n",
      "\t\t\tSkip to main content\n",
      "This browser is no longer supported.\n",
      "\t\t\t\t\t\tUpgrade to Microsoft Edge to take advantage of the latest features, security updates, and technical support.\n",
      "\t\t\t\t\t\t\tDownload Microsoft Edge\n",
      "\t\t\t\t\t\t\tMore info about Internet Explorer and Microsoft Edge\n",
      "Read in English\n",
      "Add\n",
      "Add to plan\n",
      "\t\t\t\t\t\tAchievements\n",
      "Ask Learn\n",
      "Ask Learn\n",
      "Introduction\n",
      "Completed\n",
      "1 minute\n",
      "Generative AI applications are built on language models. The development process usually...\n"
     ]
    }
   ],
   "source": [
    "# test_url_extraction.py\n",
    "\n",
    "import sys\n",
    "import os\n",
    "sys.path.append(os.path.abspath('..'))  # Ensure parent directory is in sys.path\n",
    "\n",
    "from text_processor import TextExtractor  \n",
    "\n",
    "def test_url_text_extraction(url=\"https://learn.microsoft.com/en-gb/training/modules/explore-models-azure-ai-studio/1-introduction\"):\n",
    "    \"\"\"Test the URL text extraction functionality.\"\"\"\n",
    "    \n",
    "    extractor = TextExtractor()\n",
    "    \n",
    "    try:\n",
    "        text_content = extractor.extract_from_url(url)\n",
    "\n",
    "        assert isinstance(text_content, str), \"Text content should be a string\"\n",
    "        assert len(text_content) > 0, \"Text content should not be empty\"\n",
    "        \n",
    "        print(\"✅ Text extraction successful!\")\n",
    "        print(f\"🔹 Preview:\\n{text_content[:500]}...\")  # Print first 500 characters for preview\n",
    "    except Exception as e:\n",
    "        print(f\"❌ Error during text extraction: {e}\")\n",
    "\n",
    "if __name__ == \"__main__\":\n",
    "    test_url_text_extraction()\n",
    "\n"
   ]
  }
 ],
 "metadata": {
  "kernelspec": {
   "display_name": "venv",
   "language": "python",
   "name": "python3"
  },
  "language_info": {
   "codemirror_mode": {
    "name": "ipython",
    "version": 3
   },
   "file_extension": ".py",
   "mimetype": "text/x-python",
   "name": "python",
   "nbconvert_exporter": "python",
   "pygments_lexer": "ipython3",
   "version": "3.9.13"
  }
 },
 "nbformat": 4,
 "nbformat_minor": 5
}
